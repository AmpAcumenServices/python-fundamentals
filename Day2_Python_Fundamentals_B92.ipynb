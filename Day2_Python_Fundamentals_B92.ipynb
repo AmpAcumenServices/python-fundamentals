{
 "cells": [
  {
   "cell_type": "code",
   "execution_count": 4,
   "id": "84578026-3a79-427b-aaaa-3713873a3484",
   "metadata": {},
   "outputs": [
    {
     "name": "stdout",
     "output_type": "stream",
     "text": [
      "Gauri Panchal\n",
      "GAURI PANCHAL\n",
      "gauri panchal\n"
     ]
    }
   ],
   "source": [
    "name = 'gauri panchal'\n",
    "print(name.title())\n",
    "print(name.upper())\n",
    "print(name.lower())"
   ]
  },
  {
   "cell_type": "code",
   "execution_count": 8,
   "id": "84084e8a-02e2-405a-91ff-8901319c69d0",
   "metadata": {},
   "outputs": [
    {
     "name": "stdout",
     "output_type": "stream",
     "text": [
      "Adult\n"
     ]
    }
   ],
   "source": [
    "age = 20\n",
    "status = \"adult\" if age >= 18 else \"minor\"\n",
    "print(status.title())  # Output: adult"
   ]
  },
  {
   "cell_type": "code",
   "execution_count": 12,
   "id": "87ccc14f-0bad-4e48-9850-94cb5f44d975",
   "metadata": {},
   "outputs": [
    {
     "name": "stdout",
     "output_type": "stream",
     "text": [
      "Minor\n"
     ]
    }
   ],
   "source": [
    "age = 12\n",
    "status = \"adult\" if age >= 18 else \"minor\"\n",
    "print(status.title())  # Output: adult"
   ]
  },
  {
   "cell_type": "code",
   "execution_count": 16,
   "id": "6575fa30-139a-49b8-9560-ca5094b5f950",
   "metadata": {},
   "outputs": [
    {
     "name": "stdout",
     "output_type": "stream",
     "text": [
      "Gauri panchal\n"
     ]
    }
   ],
   "source": [
    "print(name.capitalize()) "
   ]
  },
  {
   "cell_type": "code",
   "execution_count": 54,
   "id": "d4858a25-d75b-4f5c-853e-125248ea6164",
   "metadata": {},
   "outputs": [
    {
     "name": "stdout",
     "output_type": "stream",
     "text": [
      "True\n",
      "6\n",
      "6\n",
      "3\n"
     ]
    }
   ],
   "source": [
    "s = 'Hello world are you'\n",
    "contains = \"Hello\" in s            # True\n",
    "index1 = s.find(\"world\")            # 7 (returns -1 if not found)\n",
    "index = s.index(\"wor\")           # 7 (raises ValueError if not found)\n",
    "count = s.count(\"l\")               # 3\n",
    "print(str(contains) + '\\n' + str( index1) + '\\n'+ str(index) + '\\n' + str(count))"
   ]
  },
  {
   "cell_type": "code",
   "execution_count": null,
   "id": "08de0f72-1f5a-41e1-9fe7-c591b3f12eae",
   "metadata": {},
   "outputs": [],
   "source": []
  },
  {
   "cell_type": "code",
   "execution_count": null,
   "id": "39974dfa-cfc5-471a-8e5a-2df704fc9f38",
   "metadata": {},
   "outputs": [],
   "source": []
  }
 ],
 "metadata": {
  "kernelspec": {
   "display_name": "Python [conda env:base] *",
   "language": "python",
   "name": "conda-base-py"
  },
  "language_info": {
   "codemirror_mode": {
    "name": "ipython",
    "version": 3
   },
   "file_extension": ".py",
   "mimetype": "text/x-python",
   "name": "python",
   "nbconvert_exporter": "python",
   "pygments_lexer": "ipython3",
   "version": "3.12.7"
  }
 },
 "nbformat": 4,
 "nbformat_minor": 5
}
