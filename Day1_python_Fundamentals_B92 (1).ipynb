{
 "cells": [
  {
   "cell_type": "code",
   "execution_count": 2,
   "id": "e24f71ec-c90e-4f0c-bf76-6e725784f5b1",
   "metadata": {},
   "outputs": [
    {
     "name": "stdout",
     "output_type": "stream",
     "text": [
      "Hello Initiating on Python Journey\n"
     ]
    }
   ],
   "source": [
    "print(\"Hello Initiating on Python Journey\")"
   ]
  },
  {
   "cell_type": "code",
   "execution_count": 14,
   "id": "c95492ea-31be-4167-add6-9185ae1b711f",
   "metadata": {},
   "outputs": [
    {
     "name": "stdout",
     "output_type": "stream",
     "text": [
      "LangChain\n",
      "1 \n",
      "True\n",
      "4.5 \n",
      "1\n",
      "2.5\n",
      "4.5\n"
     ]
    }
   ],
   "source": [
    "name = 'LangChain'\n",
    "age = 1\n",
    "is_ai = True\n",
    "length = 4.5\n",
    "step1,step2,step3 = 1,2.5,4.5\n",
    "print(str(name) +\"\\n\" + str(age) +\" \\n\" + str(is_ai)  +\"\\n\"+ str(length)  +\" \\n\"+str(step1)  +\"\\n\"+str(step2)  +\"\\n\"+str(step3))"
   ]
  },
  {
   "cell_type": "code",
   "execution_count": 20,
   "id": "1a2bd735-0e9f-4a18-bc58-5c14d2d07308",
   "metadata": {},
   "outputs": [
    {
     "name": "stdout",
     "output_type": "stream",
     "text": [
      "8.0\n"
     ]
    }
   ],
   "source": [
    "print(step1+step2+step3)"
   ]
  },
  {
   "cell_type": "raw",
   "id": "924409a6-883b-4246-b63b-731b077606f6",
   "metadata": {},
   "source": []
  },
  {
   "cell_type": "code",
   "execution_count": 32,
   "id": "64943374-43cb-454e-9602-0ac04bb826b9",
   "metadata": {},
   "outputs": [
    {
     "name": "stdout",
     "output_type": "stream",
     "text": [
      "1.8\n"
     ]
    }
   ],
   "source": [
    "print(length / step2)"
   ]
  },
  {
   "cell_type": "code",
   "execution_count": null,
   "id": "d52a6d8f-2736-4a1e-9164-848cc3b8feb0",
   "metadata": {},
   "outputs": [],
   "source": []
  }
 ],
 "metadata": {
  "kernelspec": {
   "display_name": "Python [conda env:base] *",
   "language": "python",
   "name": "conda-base-py"
  },
  "language_info": {
   "codemirror_mode": {
    "name": "ipython",
    "version": 3
   },
   "file_extension": ".py",
   "mimetype": "text/x-python",
   "name": "python",
   "nbconvert_exporter": "python",
   "pygments_lexer": "ipython3",
   "version": "3.12.7"
  }
 },
 "nbformat": 4,
 "nbformat_minor": 5
}
